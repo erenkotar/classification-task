{
 "cells": [
  {
   "cell_type": "markdown",
   "id": "c5eec553-7b67-4a78-bd74-7882fabd5279",
   "metadata": {},
   "source": [
    "# Hi Bob!"
   ]
  },
  {
   "cell_type": "code",
   "execution_count": 39,
   "id": "67f6c4f3-08ab-49a6-a678-a3fc90aa4df6",
   "metadata": {},
   "outputs": [],
   "source": [
    "import pandas as pd\n",
    "import numpy as np\n",
    "import matplotlib.pyplot as plt\n",
    "import seaborn as sns"
   ]
  },
  {
   "cell_type": "code",
   "execution_count": 40,
   "id": "17637e39-fbf3-4d93-8979-eb0e212dbea7",
   "metadata": {},
   "outputs": [
    {
     "data": {
      "text/html": [
       "<div>\n",
       "<style scoped>\n",
       "    .dataframe tbody tr th:only-of-type {\n",
       "        vertical-align: middle;\n",
       "    }\n",
       "\n",
       "    .dataframe tbody tr th {\n",
       "        vertical-align: top;\n",
       "    }\n",
       "\n",
       "    .dataframe thead th {\n",
       "        text-align: right;\n",
       "    }\n",
       "</style>\n",
       "<table border=\"1\" class=\"dataframe\">\n",
       "  <thead>\n",
       "    <tr style=\"text-align: right;\">\n",
       "      <th></th>\n",
       "      <th>feature_1</th>\n",
       "      <th>feature_2</th>\n",
       "      <th>feature_3</th>\n",
       "      <th>feature_4</th>\n",
       "      <th>isVirus</th>\n",
       "    </tr>\n",
       "  </thead>\n",
       "  <tbody>\n",
       "    <tr>\n",
       "      <th>0</th>\n",
       "      <td>-0.233467</td>\n",
       "      <td>0.308799</td>\n",
       "      <td>2.484015</td>\n",
       "      <td>1.732721</td>\n",
       "      <td>False</td>\n",
       "    </tr>\n",
       "    <tr>\n",
       "      <th>1</th>\n",
       "      <td>1.519003</td>\n",
       "      <td>1.238482</td>\n",
       "      <td>3.344450</td>\n",
       "      <td>0.783744</td>\n",
       "      <td>False</td>\n",
       "    </tr>\n",
       "    <tr>\n",
       "      <th>2</th>\n",
       "      <td>0.400640</td>\n",
       "      <td>1.916748</td>\n",
       "      <td>3.291096</td>\n",
       "      <td>-0.918519</td>\n",
       "      <td>False</td>\n",
       "    </tr>\n",
       "    <tr>\n",
       "      <th>3</th>\n",
       "      <td>-1.616474</td>\n",
       "      <td>0.209703</td>\n",
       "      <td>1.461544</td>\n",
       "      <td>-0.291837</td>\n",
       "      <td>False</td>\n",
       "    </tr>\n",
       "    <tr>\n",
       "      <th>4</th>\n",
       "      <td>1.480515</td>\n",
       "      <td>5.299829</td>\n",
       "      <td>2.640670</td>\n",
       "      <td>1.867559</td>\n",
       "      <td>True</td>\n",
       "    </tr>\n",
       "  </tbody>\n",
       "</table>\n",
       "</div>"
      ],
      "text/plain": [
       "   feature_1  feature_2  feature_3  feature_4  isVirus\n",
       "0  -0.233467   0.308799   2.484015   1.732721    False\n",
       "1   1.519003   1.238482   3.344450   0.783744    False\n",
       "2   0.400640   1.916748   3.291096  -0.918519    False\n",
       "3  -1.616474   0.209703   1.461544  -0.291837    False\n",
       "4   1.480515   5.299829   2.640670   1.867559     True"
      ]
     },
     "execution_count": 40,
     "metadata": {},
     "output_type": "execute_result"
    }
   ],
   "source": [
    "data = pd.read_csv(\"dataset.csv\")\n",
    "data.head()"
   ]
  },
  {
   "cell_type": "code",
   "execution_count": 41,
   "id": "0be97aa5-b213-41d9-939d-ffaf11067520",
   "metadata": {},
   "outputs": [
    {
     "name": "stdout",
     "output_type": "stream",
     "text": [
      "<class 'pandas.core.frame.DataFrame'>\n",
      "RangeIndex: 1999 entries, 0 to 1998\n",
      "Data columns (total 5 columns):\n",
      " #   Column     Non-Null Count  Dtype  \n",
      "---  ------     --------------  -----  \n",
      " 0   feature_1  1897 non-null   float64\n",
      " 1   feature_2  1899 non-null   float64\n",
      " 2   feature_3  1893 non-null   float64\n",
      " 3   feature_4  1897 non-null   float64\n",
      " 4   isVirus    1999 non-null   bool   \n",
      "dtypes: bool(1), float64(4)\n",
      "memory usage: 64.5 KB\n"
     ]
    }
   ],
   "source": [
    "data.info()"
   ]
  },
  {
   "cell_type": "markdown",
   "id": "628d8f07-bb5f-4ef4-809d-15951bd3824a",
   "metadata": {},
   "source": [
    "##### All instances are labelled but, some have NaN values. Therefore, we need a method to fill the missing values."
   ]
  },
  {
   "cell_type": "code",
   "execution_count": 24,
   "id": "1f41ce34-687e-4058-8e08-a98b2bd66990",
   "metadata": {},
   "outputs": [
    {
     "data": {
      "text/html": [
       "<div>\n",
       "<style scoped>\n",
       "    .dataframe tbody tr th:only-of-type {\n",
       "        vertical-align: middle;\n",
       "    }\n",
       "\n",
       "    .dataframe tbody tr th {\n",
       "        vertical-align: top;\n",
       "    }\n",
       "\n",
       "    .dataframe thead th {\n",
       "        text-align: right;\n",
       "    }\n",
       "</style>\n",
       "<table border=\"1\" class=\"dataframe\">\n",
       "  <thead>\n",
       "    <tr style=\"text-align: right;\">\n",
       "      <th></th>\n",
       "      <th>count</th>\n",
       "      <th>unique</th>\n",
       "      <th>top</th>\n",
       "      <th>freq</th>\n",
       "      <th>mean</th>\n",
       "      <th>std</th>\n",
       "      <th>min</th>\n",
       "      <th>25%</th>\n",
       "      <th>50%</th>\n",
       "      <th>75%</th>\n",
       "      <th>max</th>\n",
       "    </tr>\n",
       "  </thead>\n",
       "  <tbody>\n",
       "    <tr>\n",
       "      <th>feature_1</th>\n",
       "      <td>1897.0</td>\n",
       "      <td>NaN</td>\n",
       "      <td>NaN</td>\n",
       "      <td>NaN</td>\n",
       "      <td>0.814404</td>\n",
       "      <td>1.729538</td>\n",
       "      <td>-2.285499</td>\n",
       "      <td>-0.556433</td>\n",
       "      <td>0.084789</td>\n",
       "      <td>2.270955</td>\n",
       "      <td>5.929096</td>\n",
       "    </tr>\n",
       "    <tr>\n",
       "      <th>feature_2</th>\n",
       "      <td>1899.0</td>\n",
       "      <td>NaN</td>\n",
       "      <td>NaN</td>\n",
       "      <td>NaN</td>\n",
       "      <td>1.795843</td>\n",
       "      <td>1.605611</td>\n",
       "      <td>-7.363119</td>\n",
       "      <td>0.975148</td>\n",
       "      <td>1.881904</td>\n",
       "      <td>2.840511</td>\n",
       "      <td>7.549658</td>\n",
       "    </tr>\n",
       "    <tr>\n",
       "      <th>feature_3</th>\n",
       "      <td>1893.0</td>\n",
       "      <td>NaN</td>\n",
       "      <td>NaN</td>\n",
       "      <td>NaN</td>\n",
       "      <td>2.621096</td>\n",
       "      <td>1.474973</td>\n",
       "      <td>-5.363119</td>\n",
       "      <td>1.671905</td>\n",
       "      <td>2.499623</td>\n",
       "      <td>3.4702</td>\n",
       "      <td>9.549658</td>\n",
       "    </tr>\n",
       "    <tr>\n",
       "      <th>feature_4</th>\n",
       "      <td>1897.0</td>\n",
       "      <td>NaN</td>\n",
       "      <td>NaN</td>\n",
       "      <td>NaN</td>\n",
       "      <td>0.807499</td>\n",
       "      <td>1.768597</td>\n",
       "      <td>-3.006499</td>\n",
       "      <td>-0.563357</td>\n",
       "      <td>0.021857</td>\n",
       "      <td>2.319822</td>\n",
       "      <td>5.759355</td>\n",
       "    </tr>\n",
       "    <tr>\n",
       "      <th>isVirus</th>\n",
       "      <td>1999</td>\n",
       "      <td>2</td>\n",
       "      <td>False</td>\n",
       "      <td>1332</td>\n",
       "      <td>NaN</td>\n",
       "      <td>NaN</td>\n",
       "      <td>NaN</td>\n",
       "      <td>NaN</td>\n",
       "      <td>NaN</td>\n",
       "      <td>NaN</td>\n",
       "      <td>NaN</td>\n",
       "    </tr>\n",
       "  </tbody>\n",
       "</table>\n",
       "</div>"
      ],
      "text/plain": [
       "            count unique    top  freq      mean       std       min       25%  \\\n",
       "feature_1  1897.0    NaN    NaN   NaN  0.814404  1.729538 -2.285499 -0.556433   \n",
       "feature_2  1899.0    NaN    NaN   NaN  1.795843  1.605611 -7.363119  0.975148   \n",
       "feature_3  1893.0    NaN    NaN   NaN  2.621096  1.474973 -5.363119  1.671905   \n",
       "feature_4  1897.0    NaN    NaN   NaN  0.807499  1.768597 -3.006499 -0.563357   \n",
       "isVirus      1999      2  False  1332       NaN       NaN       NaN       NaN   \n",
       "\n",
       "                50%       75%       max  \n",
       "feature_1  0.084789  2.270955  5.929096  \n",
       "feature_2  1.881904  2.840511  7.549658  \n",
       "feature_3  2.499623    3.4702  9.549658  \n",
       "feature_4  0.021857  2.319822  5.759355  \n",
       "isVirus         NaN       NaN       NaN  "
      ]
     },
     "execution_count": 24,
     "metadata": {},
     "output_type": "execute_result"
    }
   ],
   "source": [
    "data.describe(include=\"all\").T"
   ]
  },
  {
   "cell_type": "markdown",
   "id": "d56b36af-443e-4d95-89a0-05acfb4151dc",
   "metadata": {},
   "source": [
    "##### It seems like we have some outliers in our datasets too. Especially in feature 2 and 3. Outlier means a value that has extraordinary characteristics. We need to get rid of them somehow and train our model accordingly. However, the outliers can be good indicators for our seperator too. So our model can become worse after cleaning the outliers as well."
   ]
  },
  {
   "cell_type": "code",
   "execution_count": 25,
   "id": "1639832e-ea89-43ea-ac52-d227cb9ca6c7",
   "metadata": {},
   "outputs": [
    {
     "data": {
      "text/html": [
       "<div>\n",
       "<style scoped>\n",
       "    .dataframe tbody tr th:only-of-type {\n",
       "        vertical-align: middle;\n",
       "    }\n",
       "\n",
       "    .dataframe tbody tr th {\n",
       "        vertical-align: top;\n",
       "    }\n",
       "\n",
       "    .dataframe thead th {\n",
       "        text-align: right;\n",
       "    }\n",
       "</style>\n",
       "<table border=\"1\" class=\"dataframe\">\n",
       "  <thead>\n",
       "    <tr style=\"text-align: right;\">\n",
       "      <th></th>\n",
       "      <th>feature_1</th>\n",
       "      <th>feature_2</th>\n",
       "      <th>feature_3</th>\n",
       "      <th>feature_4</th>\n",
       "    </tr>\n",
       "  </thead>\n",
       "  <tbody>\n",
       "    <tr>\n",
       "      <th>feature_1</th>\n",
       "      <td>1.000000</td>\n",
       "      <td>0.427723</td>\n",
       "      <td>0.128848</td>\n",
       "      <td>0.787798</td>\n",
       "    </tr>\n",
       "    <tr>\n",
       "      <th>feature_2</th>\n",
       "      <td>0.427723</td>\n",
       "      <td>1.000000</td>\n",
       "      <td>0.144642</td>\n",
       "      <td>0.437098</td>\n",
       "    </tr>\n",
       "    <tr>\n",
       "      <th>feature_3</th>\n",
       "      <td>0.128848</td>\n",
       "      <td>0.144642</td>\n",
       "      <td>1.000000</td>\n",
       "      <td>0.133725</td>\n",
       "    </tr>\n",
       "    <tr>\n",
       "      <th>feature_4</th>\n",
       "      <td>0.787798</td>\n",
       "      <td>0.437098</td>\n",
       "      <td>0.133725</td>\n",
       "      <td>1.000000</td>\n",
       "    </tr>\n",
       "  </tbody>\n",
       "</table>\n",
       "</div>"
      ],
      "text/plain": [
       "           feature_1  feature_2  feature_3  feature_4\n",
       "feature_1   1.000000   0.427723   0.128848   0.787798\n",
       "feature_2   0.427723   1.000000   0.144642   0.437098\n",
       "feature_3   0.128848   0.144642   1.000000   0.133725\n",
       "feature_4   0.787798   0.437098   0.133725   1.000000"
      ]
     },
     "execution_count": 25,
     "metadata": {},
     "output_type": "execute_result"
    }
   ],
   "source": [
    "data.iloc[:,:4].corr()"
   ]
  },
  {
   "cell_type": "code",
   "execution_count": 26,
   "id": "f22d81c0-4fc4-4e00-9141-9e162791373c",
   "metadata": {},
   "outputs": [
    {
     "data": {
      "image/png": "[encoded data removed]",
      "text/plain": [
       "<Figure size 576x432 with 2 Axes>"
      ]
     },
     "metadata": {
      "needs_background": "light"
     },
     "output_type": "display_data"
    }
   ],
   "source": [
    "plt.figure(figsize=(8,6))\n",
    "sns.heatmap(data.iloc[:,:4].corr() ,cmap=\"YlGnBu\")\n",
    "plt.show()"
   ]
  },
  {
   "cell_type": "markdown",
   "id": "74901147-8cf8-4475-b974-7560e610b7db",
   "metadata": {},
   "source": [
    "##### Also there is a clear relationship between feature 1 and 4 "
   ]
  },
  {
   "cell_type": "code",
   "execution_count": 27,
   "id": "2081b06f-5eee-4367-8f6c-e3ea09ba77f5",
   "metadata": {},
   "outputs": [
    {
     "data": {
      "image/png": "[encoded data removed]",
      "text/plain": [
       "<Figure size 576x432 with 1 Axes>"
      ]
     },
     "metadata": {
      "needs_background": "light"
     },
     "output_type": "display_data"
    },
    {
     "data": {
      "image/png": "[encoded data removed]",
      "text/plain": [
       "<Figure size 576x432 with 1 Axes>"
      ]
     },
     "metadata": {
      "needs_background": "light"
     },
     "output_type": "display_data"
    }
   ],
   "source": [
    "plt.figure(figsize=(8,6))\n",
    "sns.boxplot(data=data[data[\"isVirus\"]==True])\n",
    "plt.show()\n",
    "plt.figure(figsize=(8,6))\n",
    "sns.boxplot(data=data[data[\"isVirus\"]==False])\n",
    "plt.show()"
   ]
  },
  {
   "cell_type": "markdown",
   "id": "eb5bac52-8063-45f6-98ce-2bc4a762967d",
   "metadata": {},
   "source": [
    "##### As we can see from that, virus instances have outliers which is expected. Also an indicator that we shouldn't clear the outliers in order to have a good prediction"
   ]
  },
  {
   "cell_type": "code",
   "execution_count": 28,
   "id": "115cc00a-ae5b-4634-afa5-b4d6ac9ba60a",
   "metadata": {},
   "outputs": [
    {
     "data": {
      "image/png": "[encoded data removed]",
      "text/plain": [
       "<Figure size 432x288 with 1 Axes>"
      ]
     },
     "metadata": {
      "needs_background": "light"
     },
     "output_type": "display_data"
    },
    {
     "data": {
      "image/png": "[encoded data removed]",
      "text/plain": [
       "<Figure size 432x288 with 1 Axes>"
      ]
     },
     "metadata": {
      "needs_background": "light"
     },
     "output_type": "display_data"
    },
    {
     "data": {
      "image/png": "[encoded data removed]",
      "text/plain": [
       "<Figure size 432x288 with 1 Axes>"
      ]
     },
     "metadata": {
      "needs_background": "light"
     },
     "output_type": "display_data"
    },
    {
     "data": {
      "image/png": "[encoded data removed]",
      "text/plain": [
       "<Figure size 432x288 with 1 Axes>"
      ]
     },
     "metadata": {
      "needs_background": "light"
     },
     "output_type": "display_data"
    },
    {
     "data": {
      "image/png": "[encoded data removed]",
      "text/plain": [
       "<Figure size 432x288 with 1 Axes>"
      ]
     },
     "metadata": {
      "needs_background": "light"
     },
     "output_type": "display_data"
    }
   ],
   "source": [
    "for feature in data.columns:\n",
    "    sns.boxplot(data=data,x=feature,hue=\"isVirus\")\n",
    "    plt.show()"
   ]
  },
  {
   "cell_type": "markdown",
   "id": "eae4d11c-b9ae-4ea9-9480-6a27aa26db02",
   "metadata": {},
   "source": [
    "##### We validate our assumptions via box plots. There are some outliers in feature 2 and 3. But like mentioned above we won't touch outliers"
   ]
  },
  {
   "cell_type": "code",
   "execution_count": 29,
   "id": "9fa51267-b2f4-4f5c-b045-fa365bc99b87",
   "metadata": {},
   "outputs": [
    {
     "data": {
      "image/png": "[encoded data removed]",
      "text/plain": [
       "<Figure size 421.25x360 with 1 Axes>"
      ]
     },
     "metadata": {
      "needs_background": "light"
     },
     "output_type": "display_data"
    },
    {
     "data": {
      "image/png": "[encoded data removed]",
      "text/plain": [
       "<Figure size 421.25x360 with 1 Axes>"
      ]
     },
     "metadata": {
      "needs_background": "light"
     },
     "output_type": "display_data"
    },
    {
     "data": {
      "image/png": "[encoded data removed]",
      "text/plain": [
       "<Figure size 421.25x360 with 1 Axes>"
      ]
     },
     "metadata": {
      "needs_background": "light"
     },
     "output_type": "display_data"
    },
    {
     "data": {
      "image/png": "[encoded data removed]",
      "text/plain": [
       "<Figure size 421.25x360 with 1 Axes>"
      ]
     },
     "metadata": {
      "needs_background": "light"
     },
     "output_type": "display_data"
    },
    {
     "name": "stderr",
     "output_type": "stream",
     "text": [
      "C:\\Users\\erenk\\anaconda3\\lib\\site-packages\\seaborn\\distributions.py:306: UserWarning: Dataset has 0 variance; skipping density estimate.\n",
      "  warnings.warn(msg, UserWarning)\n",
      "C:\\Users\\erenk\\anaconda3\\lib\\site-packages\\seaborn\\distributions.py:306: UserWarning: Dataset has 0 variance; skipping density estimate.\n",
      "  warnings.warn(msg, UserWarning)\n"
     ]
    },
    {
     "data": {
      "image/png": "[encoded data removed]",
      "text/plain": [
       "<Figure size 421.25x360 with 1 Axes>"
      ]
     },
     "metadata": {
      "needs_background": "light"
     },
     "output_type": "display_data"
    }
   ],
   "source": [
    "for feature in data.columns:\n",
    "    sns.displot(data,x=feature,hue=\"isVirus\",kind=\"kde\")\n",
    "    plt.show()"
   ]
  },
  {
   "cell_type": "markdown",
   "id": "5b71ee6b-fc3d-450b-9918-dabdf9891fa0",
   "metadata": {},
   "source": [
    "##### According to distributions, there are some distinc values that seperates virus and non viruses so, decision trees structure model can be a good choice. Also distribution tells us, again, not to touch outliers."
   ]
  },
  {
   "cell_type": "markdown",
   "id": "9d0da9ad-01bd-49b7-abf0-7169b929a84b",
   "metadata": {},
   "source": [
    "##### To fill nan values I believe it will be good choice to use K-NN regressior. Because it is simple to use. Also I will label outliers as nan values then I will put them in model too."
   ]
  },
  {
   "cell_type": "code",
   "execution_count": 42,
   "id": "b1059cba-6db3-49f6-906e-d2c52fa2e935",
   "metadata": {},
   "outputs": [],
   "source": [
    "from sklearn.preprocessing import LabelEncoder\n",
    "le = LabelEncoder()\n",
    "data[\"isVirus\"] = le.fit_transform(data[\"isVirus\"])\n",
    "# Before putting data into \"nan value filling model\" we have to convert the \"IsVirus\" column to numerical\n",
    "# 0 as False\n",
    "# 1 as True"
   ]
  },
  {
   "cell_type": "markdown",
   "id": "831aec8e-2985-4fc3-8c8f-40cf9d1e8725",
   "metadata": {},
   "source": [
    "##### We will use two model to predict. In first one I will try to fill Nan values by training another small model . In second one I will try to drop Nan values and train model"
   ]
  },
  {
   "cell_type": "code",
   "execution_count": 43,
   "id": "ca566d63-a553-4214-9ea7-c435ef7d4c56",
   "metadata": {},
   "outputs": [],
   "source": [
    "data2 = data.copy()\n",
    "data2.dropna(inplace=True)"
   ]
  },
  {
   "cell_type": "code",
   "execution_count": 44,
   "id": "13b26492-c9c8-42f7-ab0b-5d4068768b04",
   "metadata": {},
   "outputs": [
    {
     "data": {
      "text/html": [
       "<div>\n",
       "<style scoped>\n",
       "    .dataframe tbody tr th:only-of-type {\n",
       "        vertical-align: middle;\n",
       "    }\n",
       "\n",
       "    .dataframe tbody tr th {\n",
       "        vertical-align: top;\n",
       "    }\n",
       "\n",
       "    .dataframe thead th {\n",
       "        text-align: right;\n",
       "    }\n",
       "</style>\n",
       "<table border=\"1\" class=\"dataframe\">\n",
       "  <thead>\n",
       "    <tr style=\"text-align: right;\">\n",
       "      <th></th>\n",
       "      <th>feature_1</th>\n",
       "      <th>feature_2</th>\n",
       "      <th>feature_3</th>\n",
       "      <th>feature_4</th>\n",
       "      <th>isVirus</th>\n",
       "    </tr>\n",
       "  </thead>\n",
       "  <tbody>\n",
       "    <tr>\n",
       "      <th>0</th>\n",
       "      <td>-0.233467</td>\n",
       "      <td>0.308799</td>\n",
       "      <td>2.484015</td>\n",
       "      <td>1.732721</td>\n",
       "      <td>0</td>\n",
       "    </tr>\n",
       "    <tr>\n",
       "      <th>1</th>\n",
       "      <td>1.519003</td>\n",
       "      <td>1.238482</td>\n",
       "      <td>3.344450</td>\n",
       "      <td>0.783744</td>\n",
       "      <td>0</td>\n",
       "    </tr>\n",
       "    <tr>\n",
       "      <th>2</th>\n",
       "      <td>0.400640</td>\n",
       "      <td>1.916748</td>\n",
       "      <td>3.291096</td>\n",
       "      <td>-0.918519</td>\n",
       "      <td>0</td>\n",
       "    </tr>\n",
       "    <tr>\n",
       "      <th>3</th>\n",
       "      <td>-1.616474</td>\n",
       "      <td>0.209703</td>\n",
       "      <td>1.461544</td>\n",
       "      <td>-0.291837</td>\n",
       "      <td>0</td>\n",
       "    </tr>\n",
       "    <tr>\n",
       "      <th>4</th>\n",
       "      <td>1.480515</td>\n",
       "      <td>5.299829</td>\n",
       "      <td>2.640670</td>\n",
       "      <td>1.867559</td>\n",
       "      <td>1</td>\n",
       "    </tr>\n",
       "    <tr>\n",
       "      <th>...</th>\n",
       "      <td>...</td>\n",
       "      <td>...</td>\n",
       "      <td>...</td>\n",
       "      <td>...</td>\n",
       "      <td>...</td>\n",
       "    </tr>\n",
       "    <tr>\n",
       "      <th>1991</th>\n",
       "      <td>5.153120</td>\n",
       "      <td>3.468305</td>\n",
       "      <td>3.112738</td>\n",
       "      <td>3.657268</td>\n",
       "      <td>0</td>\n",
       "    </tr>\n",
       "    <tr>\n",
       "      <th>1993</th>\n",
       "      <td>2.932724</td>\n",
       "      <td>1.681604</td>\n",
       "      <td>2.629296</td>\n",
       "      <td>2.054384</td>\n",
       "      <td>0</td>\n",
       "    </tr>\n",
       "    <tr>\n",
       "      <th>1994</th>\n",
       "      <td>2.532559</td>\n",
       "      <td>2.139847</td>\n",
       "      <td>3.859104</td>\n",
       "      <td>2.190373</td>\n",
       "      <td>0</td>\n",
       "    </tr>\n",
       "    <tr>\n",
       "      <th>1996</th>\n",
       "      <td>4.059027</td>\n",
       "      <td>1.977436</td>\n",
       "      <td>2.144760</td>\n",
       "      <td>4.257220</td>\n",
       "      <td>0</td>\n",
       "    </tr>\n",
       "    <tr>\n",
       "      <th>1997</th>\n",
       "      <td>3.457310</td>\n",
       "      <td>3.962342</td>\n",
       "      <td>3.770837</td>\n",
       "      <td>3.243168</td>\n",
       "      <td>0</td>\n",
       "    </tr>\n",
       "  </tbody>\n",
       "</table>\n",
       "<p>1622 rows × 5 columns</p>\n",
       "</div>"
      ],
      "text/plain": [
       "      feature_1  feature_2  feature_3  feature_4  isVirus\n",
       "0     -0.233467   0.308799   2.484015   1.732721        0\n",
       "1      1.519003   1.238482   3.344450   0.783744        0\n",
       "2      0.400640   1.916748   3.291096  -0.918519        0\n",
       "3     -1.616474   0.209703   1.461544  -0.291837        0\n",
       "4      1.480515   5.299829   2.640670   1.867559        1\n",
       "...         ...        ...        ...        ...      ...\n",
       "1991   5.153120   3.468305   3.112738   3.657268        0\n",
       "1993   2.932724   1.681604   2.629296   2.054384        0\n",
       "1994   2.532559   2.139847   3.859104   2.190373        0\n",
       "1996   4.059027   1.977436   2.144760   4.257220        0\n",
       "1997   3.457310   3.962342   3.770837   3.243168        0\n",
       "\n",
       "[1622 rows x 5 columns]"
      ]
     },
     "execution_count": 44,
     "metadata": {},
     "output_type": "execute_result"
    }
   ],
   "source": [
    "not_null_df = data.dropna()\n",
    "not_null_df"
   ]
  },
  {
   "cell_type": "code",
   "execution_count": 45,
   "id": "a1c3f11e-4461-4e67-9263-368a0cbcbe17",
   "metadata": {},
   "outputs": [
    {
     "data": {
      "text/plain": [
       "(Empty DataFrame\n",
       " Columns: [feature_1, feature_2, feature_3, feature_4, isVirus]\n",
       " Index: [],\n",
       " Empty DataFrame\n",
       " Columns: [feature_1, feature_2, feature_3, feature_4, isVirus]\n",
       " Index: [],\n",
       " Empty DataFrame\n",
       " Columns: [feature_1, feature_2, feature_3, feature_4, isVirus]\n",
       " Index: [],\n",
       " Empty DataFrame\n",
       " Columns: [feature_1, feature_2, feature_3, feature_4, isVirus]\n",
       " Index: [])"
      ]
     },
     "execution_count": 45,
     "metadata": {},
     "output_type": "execute_result"
    }
   ],
   "source": [
    "data[data[\"feature_1\"]==0],data[data[\"feature_2\"]==0],data[data[\"feature_3\"]==0],data[data[\"feature_4\"]==0]"
   ]
  },
  {
   "cell_type": "markdown",
   "id": "4d9d3c71-f5b6-4f5c-b4ba-6a58764eff1c",
   "metadata": {},
   "source": [
    "##### There are no features equals 0 so I can fill nan values as zero"
   ]
  },
  {
   "cell_type": "code",
   "execution_count": 46,
   "id": "eb0cea35-d586-4db3-9fb1-9d6b5d028fc3",
   "metadata": {},
   "outputs": [],
   "source": [
    "data.fillna(0,inplace=True)"
   ]
  },
  {
   "cell_type": "code",
   "execution_count": 47,
   "id": "f619d97c-0d27-451a-9553-b813327b7196",
   "metadata": {},
   "outputs": [],
   "source": [
    "feature_1_will_predicted = data[data[\"feature_1\"]==0][[\"feature_2\",\"feature_3\",\"feature_4\",\"isVirus\"]]\n",
    "feature_2_will_predicted = data[data[\"feature_2\"]==0][[\"feature_1\",\"feature_3\",\"feature_4\",\"isVirus\"]]\n",
    "feature_3_will_predicted = data[data[\"feature_3\"]==0][[\"feature_1\",\"feature_2\",\"feature_4\",\"isVirus\"]]\n",
    "feature_4_will_predicted = data[data[\"feature_4\"]==0][[\"feature_1\",\"feature_2\",\"feature_3\",\"isVirus\"]]"
   ]
  },
  {
   "cell_type": "code",
   "execution_count": 48,
   "id": "fb966e29-ece1-4ca5-8b91-2a1171eedbda",
   "metadata": {},
   "outputs": [],
   "source": [
    "from sklearn.neighbors import KNeighborsRegressor\n",
    "# I picked n-neigbors as 10 to have near optimal generilization considering the total number of instances are 1998\n",
    "neighbors_proportion = 0.2\n",
    "\n",
    "clf1 = KNeighborsRegressor(n_neighbors=int(len(not_null_df)*neighbors_proportion))\n",
    "X_1 = data[[\"feature_2\",\"feature_3\",\"feature_4\",\"isVirus\"]]\n",
    "y_1 = data[[\"feature_1\"]]\n",
    "clf1.fit(X_1,y_1)\n",
    "prediction_1 = clf1.predict(feature_1_will_predicted)\n",
    "\n",
    "clf2 = KNeighborsRegressor(n_neighbors=int(len(not_null_df)*neighbors_proportion))\n",
    "X_2 = data[[\"feature_1\",\"feature_3\",\"feature_4\",\"isVirus\"]]\n",
    "y_2 = data[[\"feature_2\"]]\n",
    "clf2.fit(X_2,y_2)\n",
    "prediction_2 = clf2.predict(feature_2_will_predicted) \n",
    "\n",
    "clf3 = KNeighborsRegressor(n_neighbors=int(len(not_null_df)*neighbors_proportion))\n",
    "X_3 = data[[\"feature_1\",\"feature_2\",\"feature_4\",\"isVirus\"]]\n",
    "y_3 = data[[\"feature_3\"]]\n",
    "clf3.fit(X_3,y_3)\n",
    "prediction_3 = clf3.predict(feature_3_will_predicted)\n",
    "\n",
    "clf4 = KNeighborsRegressor(n_neighbors=int(len(not_null_df)*neighbors_proportion))\n",
    "X_4 = data[[\"feature_1\",\"feature_2\",\"feature_3\",\"isVirus\"]]\n",
    "y_4 = data[[\"feature_4\"]]\n",
    "clf4.fit(X_4,y_4)\n",
    "prediction_4 = clf4.predict(feature_4_will_predicted)"
   ]
  },
  {
   "cell_type": "code",
   "execution_count": 49,
   "id": "3fa2b9be-8c8f-473b-be72-42205724f199",
   "metadata": {},
   "outputs": [
    {
     "data": {
      "text/html": [
       "<div>\n",
       "<style scoped>\n",
       "    .dataframe tbody tr th:only-of-type {\n",
       "        vertical-align: middle;\n",
       "    }\n",
       "\n",
       "    .dataframe tbody tr th {\n",
       "        vertical-align: top;\n",
       "    }\n",
       "\n",
       "    .dataframe thead th {\n",
       "        text-align: right;\n",
       "    }\n",
       "</style>\n",
       "<table border=\"1\" class=\"dataframe\">\n",
       "  <thead>\n",
       "    <tr style=\"text-align: right;\">\n",
       "      <th></th>\n",
       "      <th>count</th>\n",
       "      <th>mean</th>\n",
       "      <th>std</th>\n",
       "      <th>min</th>\n",
       "      <th>25%</th>\n",
       "      <th>50%</th>\n",
       "      <th>75%</th>\n",
       "      <th>max</th>\n",
       "    </tr>\n",
       "  </thead>\n",
       "  <tbody>\n",
       "    <tr>\n",
       "      <th>feature_1</th>\n",
       "      <td>1999.0</td>\n",
       "      <td>0.772848</td>\n",
       "      <td>1.694321</td>\n",
       "      <td>-2.285499</td>\n",
       "      <td>-0.531888</td>\n",
       "      <td>0.000000</td>\n",
       "      <td>2.185465</td>\n",
       "      <td>5.929096</td>\n",
       "    </tr>\n",
       "    <tr>\n",
       "      <th>feature_2</th>\n",
       "      <td>1999.0</td>\n",
       "      <td>1.706006</td>\n",
       "      <td>1.613164</td>\n",
       "      <td>-7.363119</td>\n",
       "      <td>0.775360</td>\n",
       "      <td>1.798798</td>\n",
       "      <td>2.792420</td>\n",
       "      <td>7.549658</td>\n",
       "    </tr>\n",
       "    <tr>\n",
       "      <th>feature_3</th>\n",
       "      <td>1999.0</td>\n",
       "      <td>2.482108</td>\n",
       "      <td>1.550896</td>\n",
       "      <td>-5.363119</td>\n",
       "      <td>1.526790</td>\n",
       "      <td>2.386273</td>\n",
       "      <td>3.412488</td>\n",
       "      <td>9.549658</td>\n",
       "    </tr>\n",
       "    <tr>\n",
       "      <th>feature_4</th>\n",
       "      <td>1999.0</td>\n",
       "      <td>0.766296</td>\n",
       "      <td>1.732005</td>\n",
       "      <td>-3.006499</td>\n",
       "      <td>-0.538374</td>\n",
       "      <td>0.000000</td>\n",
       "      <td>2.177811</td>\n",
       "      <td>5.759355</td>\n",
       "    </tr>\n",
       "    <tr>\n",
       "      <th>isVirus</th>\n",
       "      <td>1999.0</td>\n",
       "      <td>0.333667</td>\n",
       "      <td>0.471640</td>\n",
       "      <td>0.000000</td>\n",
       "      <td>0.000000</td>\n",
       "      <td>0.000000</td>\n",
       "      <td>1.000000</td>\n",
       "      <td>1.000000</td>\n",
       "    </tr>\n",
       "  </tbody>\n",
       "</table>\n",
       "</div>"
      ],
      "text/plain": [
       "            count      mean       std       min       25%       50%       75%  \\\n",
       "feature_1  1999.0  0.772848  1.694321 -2.285499 -0.531888  0.000000  2.185465   \n",
       "feature_2  1999.0  1.706006  1.613164 -7.363119  0.775360  1.798798  2.792420   \n",
       "feature_3  1999.0  2.482108  1.550896 -5.363119  1.526790  2.386273  3.412488   \n",
       "feature_4  1999.0  0.766296  1.732005 -3.006499 -0.538374  0.000000  2.177811   \n",
       "isVirus    1999.0  0.333667  0.471640  0.000000  0.000000  0.000000  1.000000   \n",
       "\n",
       "                max  \n",
       "feature_1  5.929096  \n",
       "feature_2  7.549658  \n",
       "feature_3  9.549658  \n",
       "feature_4  5.759355  \n",
       "isVirus    1.000000  "
      ]
     },
     "execution_count": 49,
     "metadata": {},
     "output_type": "execute_result"
    }
   ],
   "source": [
    "data.describe().T"
   ]
  },
  {
   "cell_type": "code",
   "execution_count": 50,
   "id": "2940c01b-1a02-48ed-ae2d-74772037aac7",
   "metadata": {},
   "outputs": [
    {
     "data": {
      "text/plain": [
       "(2.5692923573756454, 0.2481852687595315, 1.917186324896672, 2.9000410466860522)"
      ]
     },
     "execution_count": 50,
     "metadata": {},
     "output_type": "execute_result"
    }
   ],
   "source": [
    "prediction_3.mean(),prediction_3.std(),prediction_3.min(),prediction_3.max()"
   ]
  },
  {
   "cell_type": "markdown",
   "id": "8947bdf9-1958-44c8-8d29-b899dfe2853f",
   "metadata": {},
   "source": [
    "##### We can see that we did not change the mean so much"
   ]
  },
  {
   "cell_type": "code",
   "execution_count": 51,
   "id": "7549f939-9fe0-485e-b703-44ac567e3278",
   "metadata": {},
   "outputs": [],
   "source": [
    "data.loc[data[\"feature_1\"]==0,\"feature_1\"] = prediction_1\n",
    "data.loc[data[\"feature_2\"]==0,\"feature_2\"] = prediction_2\n",
    "data.loc[data[\"feature_3\"]==0,\"feature_3\"] = prediction_3\n",
    "data.loc[data[\"feature_4\"]==0,\"feature_4\"] = prediction_4"
   ]
  },
  {
   "cell_type": "code",
   "execution_count": 52,
   "id": "edd1af27-cb21-46bf-8e07-f4e9df2d053f",
   "metadata": {},
   "outputs": [
    {
     "name": "stdout",
     "output_type": "stream",
     "text": [
      "<class 'pandas.core.frame.DataFrame'>\n",
      "RangeIndex: 1999 entries, 0 to 1998\n",
      "Data columns (total 5 columns):\n",
      " #   Column     Non-Null Count  Dtype  \n",
      "---  ------     --------------  -----  \n",
      " 0   feature_1  1999 non-null   float64\n",
      " 1   feature_2  1999 non-null   float64\n",
      " 2   feature_3  1999 non-null   float64\n",
      " 3   feature_4  1999 non-null   float64\n",
      " 4   isVirus    1999 non-null   int64  \n",
      "dtypes: float64(4), int64(1)\n",
      "memory usage: 78.2 KB\n"
     ]
    }
   ],
   "source": [
    "data.info()"
   ]
  },
  {
   "cell_type": "markdown",
   "id": "9ad26ab6-b458-45e6-8cb4-6eac621430ca",
   "metadata": {},
   "source": [
    "##### There are no missing values left so we can continue with our main model"
   ]
  },
  {
   "cell_type": "markdown",
   "id": "ad3d21a1-b80b-482c-802d-7115e22df6ca",
   "metadata": {},
   "source": [
    "# Main Model"
   ]
  },
  {
   "cell_type": "code",
   "execution_count": 53,
   "id": "2cdf9ebd-1188-43f4-a645-05a4a5788b86",
   "metadata": {},
   "outputs": [
    {
     "data": {
      "text/html": [
       "<div>\n",
       "<style scoped>\n",
       "    .dataframe tbody tr th:only-of-type {\n",
       "        vertical-align: middle;\n",
       "    }\n",
       "\n",
       "    .dataframe tbody tr th {\n",
       "        vertical-align: top;\n",
       "    }\n",
       "\n",
       "    .dataframe thead th {\n",
       "        text-align: right;\n",
       "    }\n",
       "</style>\n",
       "<table border=\"1\" class=\"dataframe\">\n",
       "  <thead>\n",
       "    <tr style=\"text-align: right;\">\n",
       "      <th></th>\n",
       "      <th>count</th>\n",
       "      <th>mean</th>\n",
       "      <th>std</th>\n",
       "      <th>min</th>\n",
       "      <th>25%</th>\n",
       "      <th>50%</th>\n",
       "      <th>75%</th>\n",
       "      <th>max</th>\n",
       "    </tr>\n",
       "  </thead>\n",
       "  <tbody>\n",
       "    <tr>\n",
       "      <th>feature_1</th>\n",
       "      <td>1999.0</td>\n",
       "      <td>0.817300</td>\n",
       "      <td>1.710014</td>\n",
       "      <td>-2.285499</td>\n",
       "      <td>-0.531888</td>\n",
       "      <td>0.077396</td>\n",
       "      <td>2.299487</td>\n",
       "      <td>5.929096</td>\n",
       "    </tr>\n",
       "    <tr>\n",
       "      <th>feature_2</th>\n",
       "      <td>1999.0</td>\n",
       "      <td>1.788167</td>\n",
       "      <td>1.572476</td>\n",
       "      <td>-7.363119</td>\n",
       "      <td>1.019319</td>\n",
       "      <td>1.840579</td>\n",
       "      <td>2.801100</td>\n",
       "      <td>7.549658</td>\n",
       "    </tr>\n",
       "    <tr>\n",
       "      <th>feature_3</th>\n",
       "      <td>1999.0</td>\n",
       "      <td>2.618349</td>\n",
       "      <td>1.436498</td>\n",
       "      <td>-5.363119</td>\n",
       "      <td>1.719963</td>\n",
       "      <td>2.530425</td>\n",
       "      <td>3.412488</td>\n",
       "      <td>9.549658</td>\n",
       "    </tr>\n",
       "    <tr>\n",
       "      <th>feature_4</th>\n",
       "      <td>1999.0</td>\n",
       "      <td>0.812418</td>\n",
       "      <td>1.748671</td>\n",
       "      <td>-3.006499</td>\n",
       "      <td>-0.538374</td>\n",
       "      <td>0.015956</td>\n",
       "      <td>2.368716</td>\n",
       "      <td>5.759355</td>\n",
       "    </tr>\n",
       "    <tr>\n",
       "      <th>isVirus</th>\n",
       "      <td>1999.0</td>\n",
       "      <td>0.333667</td>\n",
       "      <td>0.471640</td>\n",
       "      <td>0.000000</td>\n",
       "      <td>0.000000</td>\n",
       "      <td>0.000000</td>\n",
       "      <td>1.000000</td>\n",
       "      <td>1.000000</td>\n",
       "    </tr>\n",
       "  </tbody>\n",
       "</table>\n",
       "</div>"
      ],
      "text/plain": [
       "            count      mean       std       min       25%       50%       75%  \\\n",
       "feature_1  1999.0  0.817300  1.710014 -2.285499 -0.531888  0.077396  2.299487   \n",
       "feature_2  1999.0  1.788167  1.572476 -7.363119  1.019319  1.840579  2.801100   \n",
       "feature_3  1999.0  2.618349  1.436498 -5.363119  1.719963  2.530425  3.412488   \n",
       "feature_4  1999.0  0.812418  1.748671 -3.006499 -0.538374  0.015956  2.368716   \n",
       "isVirus    1999.0  0.333667  0.471640  0.000000  0.000000  0.000000  1.000000   \n",
       "\n",
       "                max  \n",
       "feature_1  5.929096  \n",
       "feature_2  7.549658  \n",
       "feature_3  9.549658  \n",
       "feature_4  5.759355  \n",
       "isVirus    1.000000  "
      ]
     },
     "execution_count": 53,
     "metadata": {},
     "output_type": "execute_result"
    }
   ],
   "source": [
    "data.describe().T"
   ]
  },
  {
   "cell_type": "code",
   "execution_count": 61,
   "id": "68419af8-17e8-4e40-ab69-fc2609fc9b3b",
   "metadata": {},
   "outputs": [],
   "source": [
    "from sklearn.model_selection import train_test_split\n",
    "\n",
    "X_1 = data[data.columns[0:4]]\n",
    "y_1 = data[\"isVirus\"]\n",
    "\n",
    "X_2 = data2[data2.columns[0:4]]\n",
    "y_2 = data2[\"isVirus\"]\n",
    "\n",
    "X_train1,X_test1,y_train1,y_test1 = train_test_split(X_1 , y_1,test_size=0.25,random_state=42)\n",
    "X_train2,X_test2,y_train2,y_test2 = train_test_split(X_2 , y_2,test_size=0.25,random_state=42)"
   ]
  },
  {
   "cell_type": "markdown",
   "id": "07d519f6-be64-4250-974e-c6165287f96f",
   "metadata": {},
   "source": [
    "#### By setting hyperparameters like max depth and min samples leaf we can overcome overfitting problem"
   ]
  },
  {
   "cell_type": "code",
   "execution_count": 77,
   "id": "242dbcd3-6f67-4b61-ad8a-48db80c0f239",
   "metadata": {},
   "outputs": [
    {
     "name": "stdout",
     "output_type": "stream",
     "text": [
      "Model 1 training score 0.9132755170113409\n",
      "Model 1 test score 0.884\n",
      "--------------------------------------------------------\n",
      "Model 2 training score 0.928453947368421\n",
      "Model 2 test score 0.854679802955665\n"
     ]
    }
   ],
   "source": [
    "from sklearn.ensemble import RandomForestClassifier\n",
    "\n",
    "clf1 = RandomForestClassifier(n_estimators=60, \n",
    "                            max_depth=11,\n",
    "                            max_features='auto', \n",
    "                            min_samples_leaf=9,\n",
    "                            bootstrap=True,  \n",
    "                            random_state=42)\n",
    "\n",
    "clf2 = RandomForestClassifier(n_estimators=60, \n",
    "                            max_depth=11,\n",
    "                            max_features='auto', \n",
    "                            min_samples_leaf=9,\n",
    "                            bootstrap=True,  \n",
    "                            random_state=42)\n",
    "\n",
    "\n",
    "clf1.fit(X_train1,y_train1)\n",
    "clf2.fit(X_train2,y_train2)\n",
    "\n",
    "print(\"Model 1 training score\",clf1.score(X_train1,y_train1))\n",
    "print(\"Model 1 test score\",clf1.score(X_test1,y_test1))\n",
    "print(\"--------------------------------------------------------\")\n",
    "print(\"Model 2 training score\",clf2.score(X_train2,y_train2))\n",
    "print(\"Model 2 test score\",clf2.score(X_test2,y_test2))"
   ]
  },
  {
   "cell_type": "markdown",
   "id": "216d1b30-5c79-46db-b5d3-4ef473252724",
   "metadata": {},
   "source": [
    "#### It is a clear indicator that our small model to fill nan values influenced main model positively"
   ]
  },
  {
   "cell_type": "markdown",
   "id": "1f76bc63-e56a-4503-88da-2d1a3c602e3c",
   "metadata": {},
   "source": [
    "#### We can improve our solution with hyperparameter optimization "
   ]
  },
  {
   "cell_type": "markdown",
   "id": "15cb4a98-8458-4b2b-846c-627d6afd6ebf",
   "metadata": {},
   "source": [
    "## Evaluation"
   ]
  },
  {
   "cell_type": "markdown",
   "id": "c05da56c-71d1-4efc-942f-e69e8081a9b3",
   "metadata": {},
   "source": [
    "##### For evaluating classification models confusion matrix is the best method. We can see which kinds (Type1 and Type2 error) of mistake we have done."
   ]
  },
  {
   "cell_type": "code",
   "execution_count": 91,
   "id": "fe019ec4-ecbf-49ca-97a5-f4fdb6446e67",
   "metadata": {},
   "outputs": [
    {
     "data": {
      "text/plain": [
       "array([[315,  23],\n",
       "       [ 35, 127]], dtype=int64)"
      ]
     },
     "execution_count": 91,
     "metadata": {},
     "output_type": "execute_result"
    }
   ],
   "source": [
    "from sklearn.metrics import confusion_matrix, classification_report, accuracy_score\n",
    "cm = confusion_matrix(y_test1,clf1.predict(X_test1))\n",
    "cm"
   ]
  },
  {
   "cell_type": "code",
   "execution_count": 92,
   "id": "4492f535-7992-43f2-9a66-d507dc3d1bdf",
   "metadata": {},
   "outputs": [
    {
     "data": {
      "image/png": "[encoded data removed]",
      "text/plain": [
       "<Figure size 432x288 with 2 Axes>"
      ]
     },
     "metadata": {
      "needs_background": "light"
     },
     "output_type": "display_data"
    }
   ],
   "source": [
    "sns.heatmap(cm,annot=True,fmt='.2f')\n",
    "#plt.xlable(\"\")\n",
    "plt.show()"
   ]
  },
  {
   "cell_type": "code",
   "execution_count": 93,
   "id": "40bb9506-979b-4296-9f30-92853216ef28",
   "metadata": {},
   "outputs": [
    {
     "data": {
      "text/plain": [
       "'              precision    recall  f1-score   support\\n\\n           0       0.90      0.93      0.92       338\\n           1       0.85      0.78      0.81       162\\n\\n    accuracy                           0.88       500\\n   macro avg       0.87      0.86      0.86       500\\nweighted avg       0.88      0.88      0.88       500\\n'"
      ]
     },
     "execution_count": 93,
     "metadata": {},
     "output_type": "execute_result"
    }
   ],
   "source": [
    "classification_report(y_test1,clf1.predict(X_test1))"
   ]
  },
  {
   "cell_type": "markdown",
   "id": "322a8cbe-9bff-45fb-ac6c-64222dcdc922",
   "metadata": {},
   "source": [
    "## Bob e-mail me if you have further questions. Bye-bye\n",
    "## e-mail:erenkotar@hotmail.com"
   ]
  }
 ],
 "metadata": {
  "kernelspec": {
   "display_name": "Python 3",
   "language": "python",
   "name": "python3"
  },
  "language_info": {
   "codemirror_mode": {
    "name": "ipython",
    "version": 3
   },
   "file_extension": ".py",
   "mimetype": "text/x-python",
   "name": "python",
   "nbconvert_exporter": "python",
   "pygments_lexer": "ipython3",
   "version": "3.8.8"
  }
 },
 "nbformat": 4,
 "nbformat_minor": 5
}
